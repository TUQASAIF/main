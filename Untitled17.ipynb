{
  "nbformat": 4,
  "nbformat_minor": 0,
  "metadata": {
    "colab": {
      "provenance": [],
      "authorship_tag": "ABX9TyNUBW0lKguxsl2ftD2nnL4W",
      "include_colab_link": true
    },
    "kernelspec": {
      "name": "python3",
      "display_name": "Python 3"
    },
    "language_info": {
      "name": "python"
    }
  },
  "cells": [
    {
      "cell_type": "markdown",
      "metadata": {
        "id": "view-in-github",
        "colab_type": "text"
      },
      "source": [
        "<a href=\"https://colab.research.google.com/github/TUQASAIF/main/blob/main/Untitled17.ipynb\" target=\"_parent\"><img src=\"https://colab.research.google.com/assets/colab-badge.svg\" alt=\"Open In Colab\"/></a>"
      ]
    },
    {
      "cell_type": "code",
      "execution_count": 2,
      "metadata": {
        "id": "8nBuHlDOYX39"
      },
      "outputs": [],
      "source": [
        "import numpy as np\n",
        "import tensorflow as tf\n",
        "from tensorflow import keras\n",
        "from tensorflow.keras import layers\n",
        "import pandas as pd\n",
        "import seaborn as sns\n",
        "import matplotlib.pyplot as plt\n",
        "import os\n",
        "\n",
        "from tensorflow.keras.utils import to_categorical\n",
        "from tensorflow.keras.preprocessing.image import load_img, img_to_array\n",
        "from tensorflow.keras.preprocessing.image import ImageDataGenerator\n",
        "from sklearn.metrics import classification_report, log_loss, accuracy_score\n",
        "from sklearn.model_selection import train_test_split"
      ]
    },
    {
      "cell_type": "code",
      "source": [
        "!pip install wget"
      ],
      "metadata": {
        "colab": {
          "base_uri": "https://localhost:8080/"
        },
        "id": "uMsTf33Rj72N",
        "outputId": "10c04baa-2548-4a78-f55b-1bdbaefb64aa"
      },
      "execution_count": 3,
      "outputs": [
        {
          "output_type": "stream",
          "name": "stdout",
          "text": [
            "Looking in indexes: https://pypi.org/simple, https://us-python.pkg.dev/colab-wheels/public/simple/\n",
            "Collecting wget\n",
            "  Downloading wget-3.2.zip (10 kB)\n",
            "  Preparing metadata (setup.py) ... \u001b[?25l\u001b[?25hdone\n",
            "Building wheels for collected packages: wget\n",
            "  Building wheel for wget (setup.py) ... \u001b[?25l\u001b[?25hdone\n",
            "  Created wheel for wget: filename=wget-3.2-py3-none-any.whl size=9657 sha256=729b73982e7f642abe116b2f500601dc58a3c61788e7f32379d6bff139d5b6f8\n",
            "  Stored in directory: /root/.cache/pip/wheels/8b/f1/7f/5c94f0a7a505ca1c81cd1d9208ae2064675d97582078e6c769\n",
            "Successfully built wget\n",
            "Installing collected packages: wget\n",
            "Successfully installed wget-3.2\n"
          ]
        }
      ]
    },
    {
      "cell_type": "code",
      "source": [
        "directory = \"fruits/train/train\""
      ],
      "metadata": {
        "id": "zFP_RkEwj-U9"
      },
      "execution_count": 4,
      "outputs": []
    },
    {
      "cell_type": "code",
      "source": [
        "!wget -N \"https://cainvas-static.s3.amazonaws.com/media/user_data/cainvas-admin/fruits.zip\"\n",
        "!unzip -qo fruits.zip"
      ],
      "metadata": {
        "colab": {
          "base_uri": "https://localhost:8080/"
        },
        "id": "KahNICYCkHx1",
        "outputId": "b4d2732e-19ad-4aee-d72a-fff9dd62f0d1"
      },
      "execution_count": 5,
      "outputs": [
        {
          "output_type": "stream",
          "name": "stdout",
          "text": [
            "--2023-06-07 01:55:14--  https://cainvas-static.s3.amazonaws.com/media/user_data/cainvas-admin/fruits.zip\n",
            "Resolving cainvas-static.s3.amazonaws.com (cainvas-static.s3.amazonaws.com)... 52.219.158.203\n",
            "Connecting to cainvas-static.s3.amazonaws.com (cainvas-static.s3.amazonaws.com)|52.219.158.203|:443... connected.\n",
            "HTTP request sent, awaiting response... 200 OK\n",
            "Length: 105408057 (101M) [application/x-zip-compressed]\n",
            "Saving to: ‘fruits.zip’\n",
            "\n",
            "fruits.zip          100%[===================>] 100.52M  13.1MB/s    in 9.2s    \n",
            "\n",
            "2023-06-07 01:55:24 (10.9 MB/s) - ‘fruits.zip’ saved [105408057/105408057]\n",
            "\n"
          ]
        }
      ]
    },
    {
      "cell_type": "code",
      "source": [
        "Name=[]\n",
        "for file in os.listdir(directory):\n",
        "    Name+=[file]\n",
        "print(Name)\n",
        "print(len(Name))"
      ],
      "metadata": {
        "colab": {
          "base_uri": "https://localhost:8080/"
        },
        "id": "GhHp-dz5kRVu",
        "outputId": "8f844b7b-4200-4971-fac1-6bfb1890bd51"
      },
      "execution_count": 6,
      "outputs": [
        {
          "output_type": "stream",
          "name": "stdout",
          "text": [
            "['Orange', 'Pomegranate', 'Cactus fruit', 'Cucumber Ripe', 'Apricot', 'Passion Fruit', 'Tomato', 'Pepper Red', 'Grape Blue', 'Banana', 'Lemon', 'Avocado', 'Raspberry', 'Cherry', 'Cantaloupe', 'Apple Granny Smith', 'Pineapple', 'Plum', 'Pear', 'Kiwi', 'Papaya', 'Peach', 'Mango', 'Corn', 'Watermelon', 'Potato Red', 'Blueberry', 'Apple Braeburn', 'Onion White', 'Limes', 'Pepper Green', 'Strawberry', 'Clementine']\n",
            "33\n"
          ]
        }
      ]
    },
    {
      "cell_type": "code",
      "source": [
        "fruit_map = dict(zip(Name, [t for t in range(len(Name))]))\n",
        "print(fruit_map)\n",
        "r_fruit_map=dict(zip([t for t in range(len(Name))],Name)) "
      ],
      "metadata": {
        "colab": {
          "base_uri": "https://localhost:8080/"
        },
        "id": "9uzStHPykVCi",
        "outputId": "ad08ff0a-9ba6-46cf-b604-da52831314e7"
      },
      "execution_count": 7,
      "outputs": [
        {
          "output_type": "stream",
          "name": "stdout",
          "text": [
            "{'Orange': 0, 'Pomegranate': 1, 'Cactus fruit': 2, 'Cucumber Ripe': 3, 'Apricot': 4, 'Passion Fruit': 5, 'Tomato': 6, 'Pepper Red': 7, 'Grape Blue': 8, 'Banana': 9, 'Lemon': 10, 'Avocado': 11, 'Raspberry': 12, 'Cherry': 13, 'Cantaloupe': 14, 'Apple Granny Smith': 15, 'Pineapple': 16, 'Plum': 17, 'Pear': 18, 'Kiwi': 19, 'Papaya': 20, 'Peach': 21, 'Mango': 22, 'Corn': 23, 'Watermelon': 24, 'Potato Red': 25, 'Blueberry': 26, 'Apple Braeburn': 27, 'Onion White': 28, 'Limes': 29, 'Pepper Green': 30, 'Strawberry': 31, 'Clementine': 32}\n"
          ]
        }
      ]
    },
    {
      "cell_type": "code",
      "source": [
        "len(fruit_map)"
      ],
      "metadata": {
        "colab": {
          "base_uri": "https://localhost:8080/"
        },
        "id": "ge3iyr7ekYfN",
        "outputId": "17aa8b23-2f26-40db-f47a-43abcda66a92"
      },
      "execution_count": 8,
      "outputs": [
        {
          "output_type": "execute_result",
          "data": {
            "text/plain": [
              "33"
            ]
          },
          "metadata": {},
          "execution_count": 8
        }
      ]
    },
    {
      "cell_type": "code",
      "source": [
        "def mapper(value):\n",
        "    return r_fruit_map[value]"
      ],
      "metadata": {
        "id": "biE8YjAgkZ7z"
      },
      "execution_count": 9,
      "outputs": []
    },
    {
      "cell_type": "code",
      "source": [
        "img_datagen = ImageDataGenerator(rescale=1./255,\n",
        "                                vertical_flip=True,\n",
        "                                horizontal_flip=True,\n",
        "                                rotation_range=40,\n",
        "                                width_shift_range=0.2,\n",
        "                                height_shift_range=0.2,\n",
        "                                zoom_range=0.1,\n",
        "                                validation_split=0.2)"
      ],
      "metadata": {
        "id": "BJdncc8wkden"
      },
      "execution_count": 10,
      "outputs": []
    },
    {
      "cell_type": "code",
      "source": [
        "test_datagen = ImageDataGenerator(rescale=1./255)"
      ],
      "metadata": {
        "id": "kbQi69Znkg3p"
      },
      "execution_count": 11,
      "outputs": []
    },
    {
      "cell_type": "code",
      "source": [
        "train_generator = img_datagen.flow_from_directory(directory,\n",
        "                                                 shuffle=True,\n",
        "                                                 batch_size=32,\n",
        "                                                 subset='training',\n",
        "                                                 target_size=(100, 100))"
      ],
      "metadata": {
        "colab": {
          "base_uri": "https://localhost:8080/"
        },
        "id": "CK8kUEuWkjbG",
        "outputId": "3a60e847-7ac2-4aa0-c787-b9c2eed1899a"
      },
      "execution_count": 12,
      "outputs": [
        {
          "output_type": "stream",
          "name": "stdout",
          "text": [
            "Found 13309 images belonging to 33 classes.\n"
          ]
        }
      ]
    },
    {
      "cell_type": "code",
      "source": [
        "valid_generator = img_datagen.flow_from_directory(directory,\n",
        "                                                 shuffle=True,\n",
        "                                                 batch_size=16,\n",
        "                                                 subset='validation',\n",
        "                                                 target_size=(100, 100))"
      ],
      "metadata": {
        "colab": {
          "base_uri": "https://localhost:8080/"
        },
        "id": "EGfXNhVWkrAN",
        "outputId": "a90f198b-d8bd-441b-a44a-4ece7c9b520b"
      },
      "execution_count": 13,
      "outputs": [
        {
          "output_type": "stream",
          "name": "stdout",
          "text": [
            "Found 3314 images belonging to 33 classes.\n"
          ]
        }
      ]
    },
    {
      "cell_type": "code",
      "source": [
        "from tensorflow.keras.models import Sequential\n",
        "from tensorflow.keras.layers import Dense,Conv2D,MaxPooling2D,Dropout,Flatten,Activation,BatchNormalization\n",
        "from tensorflow.keras.models import model_from_json\n",
        "from tensorflow.keras.models import load_model"
      ],
      "metadata": {
        "id": "m5bh7lklkuHY"
      },
      "execution_count": 14,
      "outputs": []
    },
    {
      "cell_type": "code",
      "source": [
        "model = Sequential()\n",
        "model.add(Conv2D(filters=32, kernel_size=(3,3),input_shape=(100,100,3), activation='relu', padding = 'same'))\n",
        "model.add(MaxPooling2D(pool_size=(2, 2)))\n",
        "\n",
        "model.add(Conv2D(filters=64, kernel_size=(3,3), activation='relu', padding = 'same'))\n",
        "model.add(MaxPooling2D(pool_size=(2, 2)))\n",
        "\n",
        "model.add(Conv2D(filters=64, kernel_size=(3,3), activation='relu', padding = 'same'))\n",
        "model.add(MaxPooling2D(pool_size=(2, 2)))\n",
        "\n",
        "model.add(Conv2D(filters=64, kernel_size=(3,3), activation='relu', padding = 'same'))\n",
        "model.add(MaxPooling2D(pool_size=(2, 2)))\n",
        "\n",
        "model.add(Conv2D(filters=64, kernel_size=(3,3), activation='relu', padding = 'same'))\n",
        "model.add(MaxPooling2D(pool_size=(2, 2)))\n",
        "\n",
        "model.add(Conv2D(filters=64, kernel_size=(3,3), activation='relu', padding = 'same'))\n",
        "model.add(MaxPooling2D(pool_size=(2, 2)))\n",
        "\n",
        "model.add(Flatten())\n",
        "\n",
        "model.add(Dense(256))\n",
        "model.add(Activation('relu'))\n",
        "model.add(Dropout(0.5))\n",
        "\n",
        "model.add(Dense(len(fruit_map)))\n",
        "model.add(Activation('softmax'))\n",
        "\n",
        "model.summary()"
      ],
      "metadata": {
        "colab": {
          "base_uri": "https://localhost:8080/"
        },
        "id": "iqwEzjHCk24Q",
        "outputId": "762ad7fc-ebbb-42f6-d288-a5d60be6a38d"
      },
      "execution_count": 15,
      "outputs": [
        {
          "output_type": "stream",
          "name": "stdout",
          "text": [
            "Model: \"sequential\"\n",
            "_________________________________________________________________\n",
            " Layer (type)                Output Shape              Param #   \n",
            "=================================================================\n",
            " conv2d (Conv2D)             (None, 100, 100, 32)      896       \n",
            "                                                                 \n",
            " max_pooling2d (MaxPooling2D  (None, 50, 50, 32)       0         \n",
            " )                                                               \n",
            "                                                                 \n",
            " conv2d_1 (Conv2D)           (None, 50, 50, 64)        18496     \n",
            "                                                                 \n",
            " max_pooling2d_1 (MaxPooling  (None, 25, 25, 64)       0         \n",
            " 2D)                                                             \n",
            "                                                                 \n",
            " conv2d_2 (Conv2D)           (None, 25, 25, 64)        36928     \n",
            "                                                                 \n",
            " max_pooling2d_2 (MaxPooling  (None, 12, 12, 64)       0         \n",
            " 2D)                                                             \n",
            "                                                                 \n",
            " conv2d_3 (Conv2D)           (None, 12, 12, 64)        36928     \n",
            "                                                                 \n",
            " max_pooling2d_3 (MaxPooling  (None, 6, 6, 64)         0         \n",
            " 2D)                                                             \n",
            "                                                                 \n",
            " conv2d_4 (Conv2D)           (None, 6, 6, 64)          36928     \n",
            "                                                                 \n",
            " max_pooling2d_4 (MaxPooling  (None, 3, 3, 64)         0         \n",
            " 2D)                                                             \n",
            "                                                                 \n",
            " conv2d_5 (Conv2D)           (None, 3, 3, 64)          36928     \n",
            "                                                                 \n",
            " max_pooling2d_5 (MaxPooling  (None, 1, 1, 64)         0         \n",
            " 2D)                                                             \n",
            "                                                                 \n",
            " flatten (Flatten)           (None, 64)                0         \n",
            "                                                                 \n",
            " dense (Dense)               (None, 256)               16640     \n",
            "                                                                 \n",
            " activation (Activation)     (None, 256)               0         \n",
            "                                                                 \n",
            " dropout (Dropout)           (None, 256)               0         \n",
            "                                                                 \n",
            " dense_1 (Dense)             (None, 33)                8481      \n",
            "                                                                 \n",
            " activation_1 (Activation)   (None, 33)                0         \n",
            "                                                                 \n",
            "=================================================================\n",
            "Total params: 192,225\n",
            "Trainable params: 192,225\n",
            "Non-trainable params: 0\n",
            "_________________________________________________________________\n"
          ]
        }
      ]
    },
    {
      "cell_type": "code",
      "source": [
        "model.compile(optimizer='adam',\n",
        "             loss='categorical_crossentropy',\n",
        "             metrics=['accuracy'])"
      ],
      "metadata": {
        "id": "d-rWvuoFk4r3"
      },
      "execution_count": 16,
      "outputs": []
    },
    {
      "cell_type": "code",
      "source": [
        "history = model.fit(train_generator, validation_data=valid_generator,\n",
        "                   steps_per_epoch=train_generator.n//train_generator.batch_size,\n",
        "                   validation_steps=valid_generator.n//valid_generator.batch_size,\n",
        "                   epochs=10)"
      ],
      "metadata": {
        "colab": {
          "base_uri": "https://localhost:8080/"
        },
        "id": "82peyQotk8b9",
        "outputId": "cacf8a46-fd61-410f-e340-f36fe65831e1"
      },
      "execution_count": 17,
      "outputs": [
        {
          "output_type": "stream",
          "name": "stdout",
          "text": [
            "Epoch 1/10\n",
            "415/415 [==============================] - 214s 511ms/step - loss: 2.1696 - accuracy: 0.2928 - val_loss: 0.9144 - val_accuracy: 0.6766\n",
            "Epoch 2/10\n",
            "415/415 [==============================] - 210s 507ms/step - loss: 0.7928 - accuracy: 0.7029 - val_loss: 0.3711 - val_accuracy: 0.8632\n",
            "Epoch 3/10\n",
            "415/415 [==============================] - 211s 509ms/step - loss: 0.4299 - accuracy: 0.8450 - val_loss: 0.1824 - val_accuracy: 0.9300\n",
            "Epoch 4/10\n",
            "415/415 [==============================] - 210s 506ms/step - loss: 0.2890 - accuracy: 0.9009 - val_loss: 0.1459 - val_accuracy: 0.9444\n",
            "Epoch 5/10\n",
            "415/415 [==============================] - 204s 493ms/step - loss: 0.2154 - accuracy: 0.9259 - val_loss: 0.1156 - val_accuracy: 0.9577\n",
            "Epoch 6/10\n",
            "415/415 [==============================] - 209s 504ms/step - loss: 0.1587 - accuracy: 0.9480 - val_loss: 0.0708 - val_accuracy: 0.9768\n",
            "Epoch 7/10\n",
            "415/415 [==============================] - 209s 504ms/step - loss: 0.1633 - accuracy: 0.9452 - val_loss: 0.0431 - val_accuracy: 0.9882\n",
            "Epoch 8/10\n",
            "415/415 [==============================] - 208s 502ms/step - loss: 0.1084 - accuracy: 0.9626 - val_loss: 0.0659 - val_accuracy: 0.9774\n",
            "Epoch 9/10\n",
            "415/415 [==============================] - 204s 491ms/step - loss: 0.0991 - accuracy: 0.9680 - val_loss: 0.0846 - val_accuracy: 0.9704\n",
            "Epoch 10/10\n",
            "415/415 [==============================] - 204s 491ms/step - loss: 0.0863 - accuracy: 0.9731 - val_loss: 0.0539 - val_accuracy: 0.9837\n"
          ]
        }
      ]
    },
    {
      "cell_type": "code",
      "source": [
        "plt.plot(history.history['loss'])\n",
        "plt.plot(history.history['val_loss'])\n",
        "plt.xlabel('Epoch')\n",
        "plt.ylabel('Loss')\n",
        "plt.title('Training and validation loss')\n",
        "plt.show()\n",
        "\n",
        "plt.plot(history.history['accuracy'])\n",
        "plt.plot(history.history['val_accuracy'])\n",
        "plt.xlabel('Epoch')\n",
        "plt.ylabel('Accuracy')\n",
        "plt.title('Training and validation accuracy')\n",
        "plt.show()"
      ],
      "metadata": {
        "colab": {
          "base_uri": "https://localhost:8080/",
          "height": 926
        },
        "id": "6dVwAbVwt8mn",
        "outputId": "7dff9b46-46f6-40e1-e216-892c92dcd284"
      },
      "execution_count": 18,
      "outputs": [
        {
          "output_type": "display_data",
          "data": {
            "text/plain": [
              "<Figure size 640x480 with 1 Axes>"
            ],
            "image/png": "[encoded data removed]"
          },
          "metadata": {}
        },
        {
          "output_type": "display_data",
          "data": {
            "text/plain": [
              "<Figure size 640x480 with 1 Axes>"
            ],
            "image/png": "[encoded data removed]"
          },
          "metadata": {}
        }
      ]
    },
    {
      "cell_type": "code",
      "source": [
        "load_img(\"fruits/test/test/0595.jpg\",target_size=(180,180))"
      ],
      "metadata": {
        "colab": {
          "base_uri": "https://localhost:8080/",
          "height": 197
        },
        "id": "rjCJCJezt_Dr",
        "outputId": "9813bf9b-4669-4f00-9f7a-25c3434e80e4"
      },
      "execution_count": 29,
      "outputs": [
        {
          "output_type": "execute_result",
          "data": {
            "text/plain": [
              "<PIL.Image.Image image mode=RGB size=180x180 at 0x7FE70AF76CB0>"
            ],
            "image/png": "[encoded data removed]"
          },
          "metadata": {},
          "execution_count": 29
        }
      ]
    },
    {
      "cell_type": "code",
      "source": [
        "image=load_img(\"fruits/test/test/0030.jpg\",target_size=(100,100))\n",
        "\n",
        "image=img_to_array(image) \n",
        "image=image/255.0\n",
        "prediction_image=np.array(image)\n",
        "prediction_image= np.expand_dims(image, axis=0)"
      ],
      "metadata": {
        "id": "vYzLbrzKuHSA"
      },
      "execution_count": 20,
      "outputs": []
    },
    {
      "cell_type": "code",
      "source": [
        "prediction=model.predict(prediction_image)\n",
        "value=np.argmax(prediction)\n",
        "move_name=mapper(value)\n",
        "print(\"Prediction is {}.\".format(move_name))"
      ],
      "metadata": {
        "colab": {
          "base_uri": "https://localhost:8080/"
        },
        "id": "Dt70dWS6umTt",
        "outputId": "96d048d1-04bf-4d76-87fd-084c5529f90e"
      },
      "execution_count": 28,
      "outputs": [
        {
          "output_type": "stream",
          "name": "stdout",
          "text": [
            "1/1 [==============================] - 0s 21ms/step\n",
            "Prediction is Lemon.\n"
          ]
        }
      ]
    },
    {
      "cell_type": "code",
      "source": [
        "model.save(\"fruits.h5\")"
      ],
      "metadata": {
        "id": "OfdKagBduzKt"
      },
      "execution_count": 25,
      "outputs": []
    }
  ]
}